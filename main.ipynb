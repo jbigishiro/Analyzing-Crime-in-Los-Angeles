{
 "cells": [
  {
   "cell_type": "markdown",
   "metadata": {},
   "source": [
    "# Analyzing Los Angeles Crimes from 2020 to 2024 "
   ]
  },
  {
   "cell_type": "markdown",
   "metadata": {},
   "source": [
    "### Import libraries"
   ]
  },
  {
   "cell_type": "code",
   "execution_count": 2,
   "metadata": {},
   "outputs": [],
   "source": [
    "import pandas as pd\n",
    "import numpy as np\n",
    "import matplotlib.pyplot as plt\n",
    "import seaborn as sns"
   ]
  },
  {
   "cell_type": "markdown",
   "metadata": {},
   "source": [
    "Import Dataset"
   ]
  },
  {
   "cell_type": "code",
   "execution_count": 3,
   "metadata": {},
   "outputs": [],
   "source": [
    "df = pd.read_csv('LA_Crime_2020_2024.csv')"
   ]
  },
  {
   "cell_type": "code",
   "execution_count": 4,
   "metadata": {},
   "outputs": [
    {
     "data": {
      "text/plain": [
       "(326478, 11)"
      ]
     },
     "execution_count": 4,
     "metadata": {},
     "output_type": "execute_result"
    }
   ],
   "source": [
    "df.shape"
   ]
  },
  {
   "cell_type": "code",
   "execution_count": 5,
   "metadata": {},
   "outputs": [
    {
     "data": {
      "text/plain": [
       "Index(['DR_NO', 'Date Rptd', 'DATE OCC', 'TIME OCC', 'AREA', 'AREA NAME',\n",
       "       'Vict Age', 'Vict Sex', 'Weapon Used Cd', 'LAT', 'LON'],\n",
       "      dtype='object')"
      ]
     },
     "execution_count": 5,
     "metadata": {},
     "output_type": "execute_result"
    }
   ],
   "source": [
    "df.columns"
   ]
  },
  {
   "cell_type": "code",
   "execution_count": 6,
   "metadata": {},
   "outputs": [
    {
     "data": {
      "text/html": [
       "<div>\n",
       "<style scoped>\n",
       "    .dataframe tbody tr th:only-of-type {\n",
       "        vertical-align: middle;\n",
       "    }\n",
       "\n",
       "    .dataframe tbody tr th {\n",
       "        vertical-align: top;\n",
       "    }\n",
       "\n",
       "    .dataframe thead th {\n",
       "        text-align: right;\n",
       "    }\n",
       "</style>\n",
       "<table border=\"1\" class=\"dataframe\">\n",
       "  <thead>\n",
       "    <tr style=\"text-align: right;\">\n",
       "      <th></th>\n",
       "      <th>DR_NO</th>\n",
       "      <th>Date Rptd</th>\n",
       "      <th>DATE OCC</th>\n",
       "      <th>TIME OCC</th>\n",
       "      <th>AREA</th>\n",
       "      <th>AREA NAME</th>\n",
       "      <th>Vict Age</th>\n",
       "      <th>Vict Sex</th>\n",
       "      <th>Weapon Used Cd</th>\n",
       "      <th>LAT</th>\n",
       "      <th>LON</th>\n",
       "    </tr>\n",
       "  </thead>\n",
       "  <tbody>\n",
       "    <tr>\n",
       "      <th>0</th>\n",
       "      <td>211904005</td>\n",
       "      <td>12/31/2020 12:00:00 AM</td>\n",
       "      <td>12/31/2020 12:00:00 AM</td>\n",
       "      <td>1220</td>\n",
       "      <td>19</td>\n",
       "      <td>Mission</td>\n",
       "      <td>26</td>\n",
       "      <td>M</td>\n",
       "      <td>400.0</td>\n",
       "      <td>34.2336</td>\n",
       "      <td>-118.4535</td>\n",
       "    </tr>\n",
       "    <tr>\n",
       "      <th>1</th>\n",
       "      <td>221908151</td>\n",
       "      <td>04/12/2022 12:00:00 AM</td>\n",
       "      <td>10/01/2020 12:00:00 AM</td>\n",
       "      <td>1</td>\n",
       "      <td>19</td>\n",
       "      <td>Mission</td>\n",
       "      <td>8</td>\n",
       "      <td>F</td>\n",
       "      <td>400.0</td>\n",
       "      <td>34.2285</td>\n",
       "      <td>-118.4258</td>\n",
       "    </tr>\n",
       "    <tr>\n",
       "      <th>2</th>\n",
       "      <td>230204214</td>\n",
       "      <td>01/05/2023 12:00:00 AM</td>\n",
       "      <td>02/01/2020 12:00:00 AM</td>\n",
       "      <td>800</td>\n",
       "      <td>2</td>\n",
       "      <td>Rampart</td>\n",
       "      <td>7</td>\n",
       "      <td>F</td>\n",
       "      <td>400.0</td>\n",
       "      <td>34.0868</td>\n",
       "      <td>-118.2991</td>\n",
       "    </tr>\n",
       "    <tr>\n",
       "      <th>3</th>\n",
       "      <td>210705560</td>\n",
       "      <td>11/27/2020 12:00:00 AM</td>\n",
       "      <td>11/27/2020 12:00:00 AM</td>\n",
       "      <td>1800</td>\n",
       "      <td>7</td>\n",
       "      <td>Wilshire</td>\n",
       "      <td>31</td>\n",
       "      <td>F</td>\n",
       "      <td>307.0</td>\n",
       "      <td>34.0452</td>\n",
       "      <td>-118.3351</td>\n",
       "    </tr>\n",
       "    <tr>\n",
       "      <th>4</th>\n",
       "      <td>231907172</td>\n",
       "      <td>03/21/2023 12:00:00 AM</td>\n",
       "      <td>03/15/2020 12:00:00 AM</td>\n",
       "      <td>1200</td>\n",
       "      <td>19</td>\n",
       "      <td>Mission</td>\n",
       "      <td>12</td>\n",
       "      <td>F</td>\n",
       "      <td>400.0</td>\n",
       "      <td>34.2246</td>\n",
       "      <td>-118.4654</td>\n",
       "    </tr>\n",
       "  </tbody>\n",
       "</table>\n",
       "</div>"
      ],
      "text/plain": [
       "       DR_NO               Date Rptd                DATE OCC  TIME OCC  AREA  \\\n",
       "0  211904005  12/31/2020 12:00:00 AM  12/31/2020 12:00:00 AM      1220    19   \n",
       "1  221908151  04/12/2022 12:00:00 AM  10/01/2020 12:00:00 AM         1    19   \n",
       "2  230204214  01/05/2023 12:00:00 AM  02/01/2020 12:00:00 AM       800     2   \n",
       "3  210705560  11/27/2020 12:00:00 AM  11/27/2020 12:00:00 AM      1800     7   \n",
       "4  231907172  03/21/2023 12:00:00 AM  03/15/2020 12:00:00 AM      1200    19   \n",
       "\n",
       "  AREA NAME  Vict Age Vict Sex  Weapon Used Cd      LAT       LON  \n",
       "0   Mission        26        M           400.0  34.2336 -118.4535  \n",
       "1   Mission         8        F           400.0  34.2285 -118.4258  \n",
       "2   Rampart         7        F           400.0  34.0868 -118.2991  \n",
       "3  Wilshire        31        F           307.0  34.0452 -118.3351  \n",
       "4   Mission        12        F           400.0  34.2246 -118.4654  "
      ]
     },
     "execution_count": 6,
     "metadata": {},
     "output_type": "execute_result"
    }
   ],
   "source": [
    "df.head()"
   ]
  },
  {
   "cell_type": "markdown",
   "metadata": {},
   "source": [
    "### Handling Missing Values"
   ]
  },
  {
   "cell_type": "code",
   "execution_count": 7,
   "metadata": {},
   "outputs": [
    {
     "name": "stdout",
     "output_type": "stream",
     "text": [
      "<class 'pandas.core.frame.DataFrame'>\n",
      "RangeIndex: 326478 entries, 0 to 326477\n",
      "Data columns (total 11 columns):\n",
      " #   Column          Non-Null Count   Dtype  \n",
      "---  ------          --------------   -----  \n",
      " 0   DR_NO           326478 non-null  int64  \n",
      " 1   Date Rptd       326478 non-null  object \n",
      " 2   DATE OCC        326478 non-null  object \n",
      " 3   TIME OCC        326478 non-null  int64  \n",
      " 4   AREA            326478 non-null  int64  \n",
      " 5   AREA NAME       326478 non-null  object \n",
      " 6   Vict Age        326478 non-null  int64  \n",
      " 7   Vict Sex        326478 non-null  object \n",
      " 8   Weapon Used Cd  326478 non-null  float64\n",
      " 9   LAT             326478 non-null  float64\n",
      " 10  LON             326478 non-null  float64\n",
      "dtypes: float64(3), int64(4), object(4)\n",
      "memory usage: 27.4+ MB\n"
     ]
    }
   ],
   "source": [
    "df.info()"
   ]
  },
  {
   "cell_type": "markdown",
   "metadata": {},
   "source": [
    "### Rename the columns"
   ]
  },
  {
   "cell_type": "code",
   "execution_count": 9,
   "metadata": {},
   "outputs": [],
   "source": [
    "df.rename(columns={'Date Rptd': 'Date_reported', 'DATE OCC':'Date_occured', 'TIME OCC': 'Time_occured', 'AREA': \"Area_code\", \n",
    "                   'AREA NAME': 'Area_name', \"Vict Age\": 'Victime_age', 'Vict Sex': 'Victime_sex', 'Weapon Used Cd': 'Weapon_used_code',\n",
    "                    'LAT': \"Latitude\", \"LON\": 'Longitude' }, inplace=True)"
   ]
  },
  {
   "cell_type": "markdown",
   "metadata": {},
   "source": [
    "### what is the time with the highest number of crimes?"
   ]
  },
  {
   "cell_type": "code",
   "execution_count": 11,
   "metadata": {},
   "outputs": [
    {
     "name": "stdout",
     "output_type": "stream",
     "text": [
      "<class 'pandas.core.frame.DataFrame'>\n",
      "RangeIndex: 326478 entries, 0 to 326477\n",
      "Data columns (total 11 columns):\n",
      " #   Column            Non-Null Count   Dtype  \n",
      "---  ------            --------------   -----  \n",
      " 0   DR_NO             326478 non-null  int64  \n",
      " 1   Date_reported     326478 non-null  object \n",
      " 2   Date_occured      326478 non-null  object \n",
      " 3   Time_occured      326478 non-null  int64  \n",
      " 4   Area_code         326478 non-null  int64  \n",
      " 5   Area_name         326478 non-null  object \n",
      " 6   Victime_age       326478 non-null  int64  \n",
      " 7   Victime_sex       326478 non-null  object \n",
      " 8   Weapon_used_code  326478 non-null  float64\n",
      " 9   Latitude          326478 non-null  float64\n",
      " 10  Longitude         326478 non-null  float64\n",
      "dtypes: float64(3), int64(4), object(4)\n",
      "memory usage: 27.4+ MB\n"
     ]
    }
   ],
   "source": [
    "df.info()"
   ]
  }
 ],
 "metadata": {
  "kernelspec": {
   "display_name": "Python 3",
   "language": "python",
   "name": "python3"
  },
  "language_info": {
   "codemirror_mode": {
    "name": "ipython",
    "version": 3
   },
   "file_extension": ".py",
   "mimetype": "text/x-python",
   "name": "python",
   "nbconvert_exporter": "python",
   "pygments_lexer": "ipython3",
   "version": "3.11.7"
  }
 },
 "nbformat": 4,
 "nbformat_minor": 2
}
